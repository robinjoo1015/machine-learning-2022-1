{
 "cells": [
  {
   "cell_type": "markdown",
   "metadata": {},
   "source": [
    "# Principal Component Analysis"
   ]
  },
  {
   "cell_type": "markdown",
   "metadata": {},
   "source": [
    "## import library"
   ]
  },
  {
   "cell_type": "code",
   "execution_count": 1,
   "metadata": {},
   "outputs": [],
   "source": [
    "import numpy as np\n",
    "import matplotlib.pyplot as plt\n",
    "import matplotlib.colors as colors\n",
    "from matplotlib import cm"
   ]
  },
  {
   "cell_type": "markdown",
   "metadata": {},
   "source": [
    "## load data"
   ]
  },
  {
   "cell_type": "code",
   "execution_count": 2,
   "metadata": {},
   "outputs": [
    {
     "name": "stdout",
     "output_type": "stream",
     "text": [
      "number of data : 50\n",
      "number of feature : 2\n"
     ]
    }
   ],
   "source": [
    "fname_data  = 'assignment_12_data.txt'\n",
    "feature0    = np.genfromtxt(fname_data, delimiter=',')\n",
    "\n",
    "number_data     = np.size(feature0, 0)\n",
    "number_feature  = np.size(feature0, 1)\n",
    "\n",
    "print('number of data : {}'.format(number_data))\n",
    "print('number of feature : {}'.format(number_feature))"
   ]
  },
  {
   "cell_type": "markdown",
   "metadata": {},
   "source": [
    "## plot the input data"
   ]
  },
  {
   "cell_type": "code",
   "execution_count": 3,
   "metadata": {},
   "outputs": [
    {
     "data": {
      "image/png": "[encoded data removed]",
      "text/plain": [
       "<Figure size 576x576 with 1 Axes>"
      ]
     },
     "metadata": {
      "needs_background": "light"
     },
     "output_type": "display_data"
    }
   ],
   "source": [
    "plt.figure(figsize=(8,8))   \n",
    "plt.title('input data')\n",
    "\n",
    "x0 = feature0[:,0]\n",
    "y0 = feature0[:,1]\n",
    "\n",
    "plt.scatter(x0, y0, color='blue')\n",
    "\n",
    "plt.tight_layout()\n",
    "plt.show()"
   ]
  },
  {
   "cell_type": "markdown",
   "metadata": {},
   "source": [
    "## Normalization (Z-scoring)\n",
    "- shape of feature = $n \\times m$ where $n$ is the number of data and $m$ is the dimension of features"
   ]
  },
  {
   "cell_type": "code",
   "execution_count": 39,
   "metadata": {},
   "outputs": [],
   "source": [
    "def normalize(feature):\n",
    "\n",
    "    # ++++++++++++++++++++++++++++++++++++++++++++++++++\n",
    "    # complete the blanks\n",
    "    #\n",
    "\n",
    "    feature_normalize = np.array([(feature[:,0] - np.mean(feature[:,0])) / np.std(feature[:,0]), (feature[:,1] - np.mean(feature[:,1])) / np.std(feature[:,1])]).T\n",
    "\n",
    "    #\n",
    "    # ++++++++++++++++++++++++++++++++++++++++++++++++++\n",
    "    \n",
    "    return feature_normalize"
   ]
  },
  {
   "cell_type": "code",
   "execution_count": 40,
   "metadata": {},
   "outputs": [],
   "source": [
    "feature = normalize(feature0)\n",
    "\n",
    "x   = feature[:, 0]\n",
    "y   = feature[:, 1]\n",
    "\n",
    "min_x = np.min(x)\n",
    "min_y = np.min(y)\n",
    "\n",
    "max_x = np.max(x)\n",
    "max_y = np.max(y)"
   ]
  },
  {
   "cell_type": "markdown",
   "metadata": {},
   "source": [
    "## compute covariance matrix\n",
    "- shape of feature = $n \\times m$ where $n$ is the number of data and $m$ is the dimension of features"
   ]
  },
  {
   "cell_type": "code",
   "execution_count": 41,
   "metadata": {},
   "outputs": [],
   "source": [
    "def compute_covariance(feature):\n",
    "\n",
    "    # ++++++++++++++++++++++++++++++++++++++++++++++++++\n",
    "    # complete the blanks\n",
    "    #\n",
    "\n",
    "    Sigma = np.sum(np.matmul(feature.reshape((-1, 2, 1)), feature.reshape(-1, 1, 2)), axis=0) / len(feature)\n",
    "\n",
    "    #\n",
    "    # ++++++++++++++++++++++++++++++++++++++++++++++++++\n",
    "\n",
    "    return Sigma"
   ]
  },
  {
   "cell_type": "markdown",
   "metadata": {},
   "source": [
    "## compute principal components\n",
    "- `np.linalg.eig`\n",
    "- `argsort()`\n",
    "- return the eigenvalues and the eigenvectors in a decreasing order according to the eigenvalues"
   ]
  },
  {
   "cell_type": "code",
   "execution_count": 56,
   "metadata": {},
   "outputs": [],
   "source": [
    "def compute_principal_component(feature):\n",
    "\n",
    "    # ++++++++++++++++++++++++++++++++++++++++++++++++++\n",
    "    # complete the blanks\n",
    "    #\n",
    "\n",
    "    eigenvalue, eigenvector = np.linalg.eig(compute_covariance(feature))\n",
    "    # print(eigenvalue)\n",
    "    # print(np.argsort(eigenvalue)[::-1])\n",
    "    # print(eigenvector)\n",
    "    # print(eigenvalue * eigenvector)\n",
    "    principal_component_1 = eigenvalue[np.argsort(eigenvalue)[::-1][0]] * eigenvector[:,np.argsort(eigenvalue)[::-1][0]]\n",
    "    principal_component_2 = eigenvalue[np.argsort(eigenvalue)[::-1][1]] * eigenvector[:,np.argsort(eigenvalue)[::-1][1]]\n",
    "\n",
    "    #\n",
    "    # ++++++++++++++++++++++++++++++++++++++++++++++++++\n",
    "     \n",
    "    return (principal_component_1, principal_component_2)"
   ]
  },
  {
   "cell_type": "markdown",
   "metadata": {},
   "source": [
    "## compute the projection of point onto the axis\n",
    "- `np.matmul`\n",
    "- `np.dot`\n",
    "- shape of feature = $n \\times m$ where $n$ is the number of data and $m$ is the dimension of features\n",
    "- shape of vector = $m \\times 1$ where $m$ is the dimension of features"
   ]
  },
  {
   "cell_type": "code",
   "execution_count": 87,
   "metadata": {},
   "outputs": [],
   "source": [
    "def compute_projection_onto_line(feature, vector):\n",
    "\n",
    "    # ++++++++++++++++++++++++++++++++++++++++++++++++++\n",
    "    # complete the blanks\n",
    "    #\n",
    "\n",
    "    projection = np.matmul(np.matmul(feature, vector).reshape((-1,1)) / np.inner(vector, vector), vector.reshape((1, 2)))\n",
    "\n",
    "    #\n",
    "    # ++++++++++++++++++++++++++++++++++++++++++++++++++\n",
    "\n",
    "    return projection"
   ]
  },
  {
   "cell_type": "markdown",
   "metadata": {},
   "source": [
    "## compute the principal components and the projection of feature"
   ]
  },
  {
   "cell_type": "code",
   "execution_count": 89,
   "metadata": {},
   "outputs": [],
   "source": [
    "\n",
    "(principal_component_1, principal_component_2) = compute_principal_component(feature)\n",
    "\n",
    "projection1 = compute_projection_onto_line(feature, principal_component_1)\n",
    "projection2 = compute_projection_onto_line(feature, principal_component_2)"
   ]
  },
  {
   "cell_type": "markdown",
   "metadata": {},
   "source": [
    "---"
   ]
  },
  {
   "cell_type": "markdown",
   "metadata": {},
   "source": [
    "---"
   ]
  },
  {
   "cell_type": "markdown",
   "metadata": {},
   "source": [
    "## functions for presenting the results"
   ]
  },
  {
   "cell_type": "markdown",
   "metadata": {},
   "source": [
    "---"
   ]
  },
  {
   "cell_type": "markdown",
   "metadata": {},
   "source": [
    "---"
   ]
  },
  {
   "cell_type": "code",
   "execution_count": 92,
   "metadata": {},
   "outputs": [],
   "source": [
    "def function_result_01():\n",
    "   \n",
    "    plt.figure(figsize=(8,8))\n",
    "    plt.title('data normalized by z-scoring')\n",
    "    plt.scatter(x, y, color='blue')\n",
    "\n",
    "    plt.xlim(min_x - 0.5, max_x + 0.5)\n",
    "    plt.ylim(min_y - 0.5, max_y + 0.5)\n",
    "\n",
    "    plt.tight_layout()\n",
    "    plt.show()"
   ]
  },
  {
   "cell_type": "code",
   "execution_count": 104,
   "metadata": {},
   "outputs": [],
   "source": [
    "def function_result_02():\n",
    "\n",
    "    plt.figure(figsize=(8,8))\n",
    "    plt.title('principal components')\n",
    "\n",
    "    # ++++++++++++++++++++++++++++++++++++++++++++++++++\n",
    "    # complete the blanks\n",
    "    #\n",
    "\n",
    "    plt.quiver(*np.array([0, 0]), principal_component_1[0], principal_component_1[1], color='r', angles='xy', scale_units='xy', scale=1)\n",
    "    plt.quiver(*np.array([0, 0]), principal_component_2[0], principal_component_2[1], color='g', angles='xy', scale_units='xy', scale=1)\n",
    "    plt.scatter(x, y, color='blue')\n",
    "\n",
    "    #\n",
    "    # ++++++++++++++++++++++++++++++++++++++++++++++++++\n",
    "\n",
    "    plt.xlim(min_x - 0.5, max_x + 0.5)\n",
    "    plt.ylim(min_y - 0.5, max_y + 0.5)\n",
    "\n",
    "    plt.tight_layout()\n",
    "    plt.show()"
   ]
  },
  {
   "cell_type": "code",
   "execution_count": 107,
   "metadata": {},
   "outputs": [],
   "source": [
    "def function_result_03():\n",
    "\n",
    "    plt.figure(figsize=(8,8))\n",
    "    plt.title('first principle axis')\n",
    "\n",
    "    # ++++++++++++++++++++++++++++++++++++++++++++++++++\n",
    "    # complete the blanks\n",
    "    #\n",
    "\n",
    "    plt.axline((0,0), slope=principal_component_1[1]/principal_component_1[0], color='r')\n",
    "    plt.scatter(x, y, color='blue')\n",
    "\n",
    "    #\n",
    "    # ++++++++++++++++++++++++++++++++++++++++++++++++++\n",
    "\n",
    "    plt.xlim(min_x - 0.5, max_x + 0.5)\n",
    "    plt.ylim(min_y - 0.5, max_y + 0.5)\n",
    "\n",
    "    plt.tight_layout()\n",
    "    plt.show()"
   ]
  },
  {
   "cell_type": "code",
   "execution_count": 108,
   "metadata": {},
   "outputs": [],
   "source": [
    "def function_result_04():\n",
    "\n",
    "    plt.figure(figsize=(8,8))\n",
    "    plt.title('second principle axis')\n",
    "\n",
    "    # ++++++++++++++++++++++++++++++++++++++++++++++++++\n",
    "    # complete the blanks\n",
    "    #\n",
    "\n",
    "    plt.axline((0,0), slope=principal_component_2[1]/principal_component_2[0], color='r')\n",
    "    plt.scatter(x, y, color='blue')\n",
    "\n",
    "    #\n",
    "    # ++++++++++++++++++++++++++++++++++++++++++++++++++\n",
    "\n",
    "    plt.xlim(min_x - 0.5, max_x + 0.5)\n",
    "    plt.ylim(min_y - 0.5, max_y + 0.5)\n",
    "\n",
    "    plt.tight_layout()\n",
    "    plt.show()"
   ]
  },
  {
   "cell_type": "code",
   "execution_count": 69,
   "metadata": {},
   "outputs": [],
   "source": [
    "def function_result_05():\n",
    "\n",
    "    plt.figure(figsize=(8,8))\n",
    "    plt.title('projection onto the first principle axis')\n",
    "\n",
    "    # ++++++++++++++++++++++++++++++++++++++++++++++++++\n",
    "    # complete the blanks\n",
    "    #\n",
    "\n",
    "\n",
    "\n",
    "    #\n",
    "    # ++++++++++++++++++++++++++++++++++++++++++++++++++\n",
    "\n",
    "    plt.xlim(min_x - 0.5, max_x + 0.5)\n",
    "    plt.ylim(min_y - 0.5, max_y + 0.5)\n",
    "\n",
    "    plt.tight_layout()\n",
    "    plt.show()\n"
   ]
  },
  {
   "cell_type": "code",
   "execution_count": 70,
   "metadata": {},
   "outputs": [],
   "source": [
    "def function_result_06():\n",
    "\n",
    "    plt.figure(figsize=(8,8))\n",
    "    plt.title('projection onto the second principle axis')\n",
    "\n",
    "    # ++++++++++++++++++++++++++++++++++++++++++++++++++\n",
    "    # complete the blanks\n",
    "    #\n",
    "\n",
    "\n",
    "\n",
    "    #\n",
    "    # ++++++++++++++++++++++++++++++++++++++++++++++++++\n",
    "\n",
    "    plt.xlim(min_x - 0.5, max_x + 0.5)\n",
    "    plt.ylim(min_y - 0.5, max_y + 0.5)\n",
    "\n",
    "    plt.tight_layout()\n",
    "    plt.show()"
   ]
  },
  {
   "cell_type": "code",
   "execution_count": 71,
   "metadata": {},
   "outputs": [],
   "source": [
    "def function_result_07():\n",
    "\n",
    "    plt.figure(figsize=(8,8))\n",
    "    plt.title('projection onto the first principle axis')\n",
    "\n",
    "    # ++++++++++++++++++++++++++++++++++++++++++++++++++\n",
    "    # complete the blanks\n",
    "    #\n",
    "\n",
    "\n",
    "\n",
    "    #\n",
    "    # ++++++++++++++++++++++++++++++++++++++++++++++++++\n",
    "\n",
    "    plt.xlim(min_x - 0.5, max_x + 0.5)\n",
    "    plt.ylim(min_y - 0.5, max_y + 0.5)\n",
    "\n",
    "    plt.tight_layout()\n",
    "    plt.show()"
   ]
  },
  {
   "cell_type": "code",
   "execution_count": 72,
   "metadata": {},
   "outputs": [],
   "source": [
    "def function_result_08():\n",
    "\n",
    "    plt.figure(figsize=(8,8))\n",
    "    plt.title('projection to the second principle axis')\n",
    "\n",
    "    # ++++++++++++++++++++++++++++++++++++++++++++++++++\n",
    "    # complete the blanks\n",
    "    #\n",
    "\n",
    "\n",
    "\n",
    "    #\n",
    "    # ++++++++++++++++++++++++++++++++++++++++++++++++++\n",
    "\n",
    "    plt.xlim(min_x - 0.5, max_x + 0.5)\n",
    "    plt.ylim(min_y - 0.5, max_y + 0.5)\n",
    "\n",
    "    plt.tight_layout()\n",
    "    plt.show()"
   ]
  },
  {
   "cell_type": "markdown",
   "metadata": {},
   "source": [
    "---"
   ]
  },
  {
   "cell_type": "markdown",
   "metadata": {},
   "source": [
    "---"
   ]
  },
  {
   "cell_type": "markdown",
   "metadata": {},
   "source": [
    "## results"
   ]
  },
  {
   "cell_type": "markdown",
   "metadata": {},
   "source": [
    "---"
   ]
  },
  {
   "cell_type": "markdown",
   "metadata": {},
   "source": [
    "---"
   ]
  },
  {
   "cell_type": "code",
   "execution_count": 109,
   "metadata": {},
   "outputs": [
    {
     "name": "stdout",
     "output_type": "stream",
     "text": [
      "**************************************************\n",
      "## [RESULT 01]\n",
      "**************************************************\n"
     ]
    },
    {
     "data": {
      "image/png": "[encoded data removed]",
      "text/plain": [
       "<Figure size 576x576 with 1 Axes>"
      ]
     },
     "metadata": {
      "needs_background": "light"
     },
     "output_type": "display_data"
    },
    {
     "name": "stdout",
     "output_type": "stream",
     "text": [
      "**************************************************\n",
      "## [RESULT 02]\n",
      "**************************************************\n"
     ]
    },
    {
     "data": {
      "image/png": "[encoded data removed]",
      "text/plain": [
       "<Figure size 576x576 with 1 Axes>"
      ]
     },
     "metadata": {
      "needs_background": "light"
     },
     "output_type": "display_data"
    },
    {
     "name": "stdout",
     "output_type": "stream",
     "text": [
      "**************************************************\n",
      "## [RESULT 03]\n",
      "**************************************************\n"
     ]
    },
    {
     "data": {
      "image/png": "[encoded data removed]",
      "text/plain": [
       "<Figure size 576x576 with 1 Axes>"
      ]
     },
     "metadata": {
      "needs_background": "light"
     },
     "output_type": "display_data"
    },
    {
     "name": "stdout",
     "output_type": "stream",
     "text": [
      "**************************************************\n",
      "## [RESULT 04]\n",
      "**************************************************\n"
     ]
    },
    {
     "data": {
      "image/png": "[encoded data removed]",
      "text/plain": [
       "<Figure size 576x576 with 1 Axes>"
      ]
     },
     "metadata": {
      "needs_background": "light"
     },
     "output_type": "display_data"
    }
   ],
   "source": [
    "# number_result = 8\n",
    "number_result = 4\n",
    "\n",
    "for i in range(number_result):\n",
    "    title = '## [RESULT {:02d}]'.format(i+1)\n",
    "    name_function = 'function_result_{:02d}()'.format(i+1)\n",
    "\n",
    "    print('**************************************************')\n",
    "    print(title)\n",
    "    print('**************************************************')\n",
    "    eval(name_function)"
   ]
  }
 ],
 "metadata": {
  "interpreter": {
   "hash": "dfd2afc40b071b0a8a7be2b8b482a1561238dbd554bbdbb5af95d337cdb58bec"
  },
  "kernelspec": {
   "display_name": "Python 3.10.2 64-bit (system)",
   "language": "python",
   "name": "python3"
  },
  "language_info": {
   "codemirror_mode": {
    "name": "ipython",
    "version": 3
   },
   "file_extension": ".py",
   "mimetype": "text/x-python",
   "name": "python",
   "nbconvert_exporter": "python",
   "pygments_lexer": "ipython3",
   "version": "3.10.2"
  },
  "metadata": {
   "interpreter": {
    "hash": "aee8b7b246df8f9039afb4144a1f6fd8d2ca17a180786b69acc140d282b71a49"
   }
  }
 },
 "nbformat": 4,
 "nbformat_minor": 1
}
