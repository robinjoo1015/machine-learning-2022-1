{
 "cells": [
  {
   "cell_type": "markdown",
   "metadata": {},
   "source": [
    "# Logistic Regression "
   ]
  },
  {
   "cell_type": "markdown",
   "metadata": {},
   "source": [
    "## import library"
   ]
  },
  {
   "cell_type": "code",
   "execution_count": 1,
   "metadata": {},
   "outputs": [],
   "source": [
    "import numpy as np\n",
    "import matplotlib.pyplot as plt\n",
    "import matplotlib.colors as colors\n",
    "from matplotlib import ticker, cm"
   ]
  },
  {
   "cell_type": "markdown",
   "metadata": {},
   "source": [
    "## load training data"
   ]
  },
  {
   "cell_type": "code",
   "execution_count": null,
   "metadata": {},
   "outputs": [],
   "source": [
    "fname_data = 'assignment_08_data.csv'\n",
    "\n",
    "data        = np.genfromtxt(fname_data, delimiter=',')\n",
    "number_data = data.shape[0]\n",
    "\n",
    "point_x = data[:, 0]\n",
    "point_y = data[:, 1]\n",
    "label   = data[:, 2]\n",
    "\n",
    "print('number of data = ', number_data)\n",
    "print('data type of point x = ', point_x.dtype)\n",
    "print('data type of point y = ', point_y.dtype)\n",
    "\n",
    "point_x_class_0 = point_x[label == 0]\n",
    "point_y_class_0 = point_y[label == 0]\n",
    "\n",
    "point_x_class_1 = point_x[label == 1]\n",
    "point_y_class_1 = point_y[label == 1]"
   ]
  },
  {
   "cell_type": "markdown",
   "metadata": {},
   "source": [
    "## plot the data"
   ]
  },
  {
   "cell_type": "code",
   "execution_count": null,
   "metadata": {},
   "outputs": [],
   "source": [
    "f = plt.figure(figsize=(8,8))   \n",
    "\n",
    "plt.title('training data')\n",
    "plt.plot(point_x_class_0, point_y_class_0, 'o', color='blue', label='class = 0')\n",
    "plt.plot(point_x_class_1, point_y_class_1, 'o', color='red', label='class = 1')\n",
    "plt.axis('equal')\n",
    "plt.legend()\n",
    "plt.tight_layout()\n",
    "plt.show()"
   ]
  },
  {
   "cell_type": "markdown",
   "metadata": {},
   "source": [
    "## define the linear regression function"
   ]
  },
  {
   "cell_type": "markdown",
   "metadata": {},
   "source": [
    "- $\\theta = (\\theta_0, \\theta_1, \\theta_2)$\n",
    "- point = $(1, x, y) \\in \\mathbb{R}^3$"
   ]
  },
  {
   "cell_type": "code",
   "execution_count": null,
   "metadata": {},
   "outputs": [],
   "source": [
    "def compute_linear_regression(theta, point):\n",
    "\n",
    "    # ++++++++++++++++++++++++++++++++++++++++++++++++++\n",
    "    # complete the blanks\n",
    "    #\n",
    "\n",
    "    \n",
    "    value = \n",
    "    #\n",
    "    # ++++++++++++++++++++++++++++++++++++++++++++++++++\n",
    "\n",
    "    return value"
   ]
  },
  {
   "cell_type": "markdown",
   "metadata": {},
   "source": [
    "## define sigmoid function with input"
   ]
  },
  {
   "cell_type": "markdown",
   "metadata": {},
   "source": [
    "- $z \\in \\mathbb{R}$"
   ]
  },
  {
   "cell_type": "code",
   "execution_count": null,
   "metadata": {},
   "outputs": [],
   "source": [
    "def sigmoid(z):\n",
    "\n",
    "    # ++++++++++++++++++++++++++++++++++++++++++++++++++\n",
    "    # complete the blanks\n",
    "    #\n",
    "    \n",
    "    \n",
    "    value = \n",
    "    #\n",
    "    # ++++++++++++++++++++++++++++++++++++++++++++++++++\n",
    "\n",
    "    return value "
   ]
  },
  {
   "cell_type": "markdown",
   "metadata": {},
   "source": [
    "## define the logistic regression function"
   ]
  },
  {
   "cell_type": "markdown",
   "metadata": {},
   "source": [
    "- $\\theta = (\\theta_0, \\theta_1, \\theta_2) \\in \\mathbb{R}^3$\n",
    "- point = $(1, x, y) \\in \\mathbb{R}^3$"
   ]
  },
  {
   "cell_type": "code",
   "execution_count": null,
   "metadata": {},
   "outputs": [],
   "source": [
    "def compute_logistic_regression(theta, point):\n",
    "\n",
    "    # ++++++++++++++++++++++++++++++++++++++++++++++++++\n",
    "    # complete the blanks\n",
    "    #\n",
    "\n",
    "\n",
    "    value = \n",
    "    #\n",
    "    # ++++++++++++++++++++++++++++++++++++++++++++++++++\n",
    "\n",
    "    return value"
   ]
  },
  {
   "cell_type": "markdown",
   "metadata": {},
   "source": [
    "## define the residual function"
   ]
  },
  {
   "cell_type": "markdown",
   "metadata": {},
   "source": [
    "- $\\theta = (\\theta_0, \\theta_1, \\theta_2) \\in \\mathbb{R}^3$\n",
    "- point $= (x, y) \\in \\mathbb{R}^2$\n",
    "- label $= l \\in \\{0, 1\\}$"
   ]
  },
  {
   "cell_type": "code",
   "execution_count": null,
   "metadata": {},
   "outputs": [],
   "source": [
    "def compute_residual(theta, point, label):\n",
    "\n",
    "    # ++++++++++++++++++++++++++++++++++++++++++++++++++\n",
    "    # complete the blanks\n",
    "    #\n",
    "\n",
    "\n",
    "    residual = \n",
    "    #\n",
    "    # ++++++++++++++++++++++++++++++++++++++++++++++++++\n",
    "\n",
    "    return residual"
   ]
  },
  {
   "cell_type": "markdown",
   "metadata": {},
   "source": [
    "## define the loss function for the logistic regression"
   ]
  },
  {
   "cell_type": "markdown",
   "metadata": {},
   "source": [
    "- $\\theta = (\\theta_0, \\theta_1, \\theta_2) \\in \\mathbb{R}^3$\n",
    "- point $= (1, x, y) \\in \\mathbb{R}^3$\n",
    "- label $= l \\in \\{0, 1\\}$"
   ]
  },
  {
   "cell_type": "code",
   "execution_count": null,
   "metadata": {},
   "outputs": [],
   "source": [
    "def compute_loss(theta, point, label):\n",
    "\n",
    "    # ++++++++++++++++++++++++++++++++++++++++++++++++++\n",
    "    # complete the blanks\n",
    "    #\n",
    "\n",
    "\n",
    "    loss = \n",
    "    #\n",
    "    # ++++++++++++++++++++++++++++++++++++++++++++++++++\n",
    "\n",
    "    return loss"
   ]
  },
  {
   "cell_type": "markdown",
   "metadata": {},
   "source": [
    "## define the gradient of the loss with respect to the model parameter $\\theta$"
   ]
  },
  {
   "cell_type": "markdown",
   "metadata": {},
   "source": [
    "- $\\theta = (\\theta_0, \\theta_1, \\theta_2) \\in \\mathbb{R}^3$\n",
    "- point $= (1, x, y) \\in \\mathbb{R}^3$\n",
    "- label $= l \\in \\{0, 1\\}$"
   ]
  },
  {
   "cell_type": "code",
   "execution_count": null,
   "metadata": {},
   "outputs": [],
   "source": [
    "def compute_gradient(theta, point, label):\n",
    "\n",
    "    # ++++++++++++++++++++++++++++++++++++++++++++++++++\n",
    "    # complete the blanks\n",
    "    #\n",
    "\n",
    "\n",
    "    gradient = \n",
    "    #\n",
    "    # ++++++++++++++++++++++++++++++++++++++++++++++++++\n",
    "\n",
    "    return gradient"
   ]
  },
  {
   "cell_type": "markdown",
   "metadata": {},
   "source": [
    "## initialize the gradient descent algorithm"
   ]
  },
  {
   "cell_type": "code",
   "execution_count": null,
   "metadata": {
    "tags": []
   },
   "outputs": [],
   "source": [
    "num_iteration   = 5000  # USE THIS VALUE for the number of gradient descent iterations \n",
    "learning_rate   = 0.001 # USE THIS VALUE for the learning rate\n",
    "\n",
    "theta           = np.array((0, 0, 0))\n",
    "theta_iteration = np.zeros((num_iteration, theta.size))\n",
    "loss_iteration  = np.zeros(num_iteration)\n",
    "\n",
    "number_point_class_0    = len(point_x_class_0)\n",
    "number_point_class_1    = len(point_x_class_1)\n",
    "\n",
    "point_class_0   = np.ones((number_point_class_0, 3))\n",
    "point_class_1   = np.ones((number_point_class_1, 3))\n",
    "\n",
    "point_class_0[:, 1] = point_x_class_0\n",
    "point_class_0[:, 2] = point_y_class_0\n",
    " \n",
    "point_class_1[:, 1] = point_x_class_1\n",
    "point_class_1[:, 2] = point_y_class_1\n",
    "\n",
    "label_0     = np.zeros(number_point_class_0)\n",
    "label_1     = np.ones(number_point_class_1)\n",
    "\n",
    "point = np.concatenate((point_class_0, point_class_1), axis=0)\n",
    "label = np.concatenate((label_0, label_1), axis=0)\n",
    "\n",
    "print('shape of point_class_0 : ', point_class_0.shape)\n",
    "print('shape of point_class_1 : ', point_class_1.shape)\n",
    "print('shape of label_0 : ', label_0.shape)\n",
    "print('shape of label_1 : ', label_1.shape)\n",
    "\n",
    "print('shape of point : ', point.shape)\n",
    "print('shape of label : ', label.shape)"
   ]
  },
  {
   "cell_type": "markdown",
   "metadata": {},
   "source": [
    "## run the gradient descent algorithm to optimize the loss function with respect to the model parameter"
   ]
  },
  {
   "cell_type": "code",
   "execution_count": null,
   "metadata": {
    "tags": [
     "outputPrepend"
    ]
   },
   "outputs": [],
   "source": [
    "for i in range(num_iteration):\n",
    "    \n",
    "    # ++++++++++++++++++++++++++++++++++++++++++++++++++\n",
    "    # complete the blanks\n",
    "    #\n",
    "\n",
    "    \n",
    "    theta   = \n",
    "    loss    = \n",
    "    #\n",
    "    # ++++++++++++++++++++++++++++++++++++++++++++++++++\n",
    "\n",
    "    theta_iteration[i, :]   = theta\n",
    "    loss_iteration[i]       = loss\n",
    "\n",
    "theta_optimal = theta"
   ]
  },
  {
   "cell_type": "markdown",
   "metadata": {},
   "source": [
    "___"
   ]
  },
  {
   "cell_type": "markdown",
   "metadata": {},
   "source": [
    "___"
   ]
  },
  {
   "cell_type": "markdown",
   "metadata": {},
   "source": [
    "## functions for presenting the results"
   ]
  },
  {
   "cell_type": "markdown",
   "metadata": {},
   "source": [
    "___"
   ]
  },
  {
   "cell_type": "markdown",
   "metadata": {},
   "source": [
    "___"
   ]
  },
  {
   "cell_type": "code",
   "execution_count": null,
   "metadata": {},
   "outputs": [],
   "source": [
    "def function_result_01():\n",
    "\n",
    "    input1  = np.array([0.1, 0.2, 0.3])\n",
    "    input2  = np.array([[1, 2, 3], [1, -2, -3]])\n",
    "\n",
    "    value = compute_linear_regression(input1, input2)\n",
    "    \n",
    "    print(value)"
   ]
  },
  {
   "cell_type": "code",
   "execution_count": null,
   "metadata": {},
   "outputs": [],
   "source": [
    "def function_result_02():\n",
    "    \n",
    "    input1  = np.array([0.1, 0.2, 0.3])\n",
    "    input2  = np.array([[1, 2, 3], [1, -2, -3]])\n",
    "\n",
    "    value = compute_logistic_regression(input1, input2)\n",
    "\n",
    "    print(value)"
   ]
  },
  {
   "cell_type": "code",
   "execution_count": null,
   "metadata": {},
   "outputs": [],
   "source": [
    "def function_result_03():\n",
    "\n",
    "    input1  = np.array([0.1, 0.2, 0.3])\n",
    "    input2  = np.array([[1, 2, 3], [1, -2, -3]])\n",
    "    input3  = np.array([0, 1])\n",
    "\n",
    "    value = compute_residual(input1, input2, input3)\n",
    "\n",
    "    print(value)"
   ]
  },
  {
   "cell_type": "code",
   "execution_count": null,
   "metadata": {},
   "outputs": [],
   "source": [
    "def function_result_04():\n",
    "    \n",
    "    input1  = np.array([0.1, 0.2, 0.3])\n",
    "    input2  = np.array([[1, 2, 3], [1, -2, -3]])\n",
    "    input3  = np.array([[0], [1]])\n",
    "\n",
    "    value = compute_loss(input1, input2, input3)\n",
    "\n",
    "    print(value)"
   ]
  },
  {
   "cell_type": "code",
   "execution_count": null,
   "metadata": {},
   "outputs": [],
   "source": [
    "def function_result_05():\n",
    "    \n",
    "    input1  = np.array([0.1, 0.2, 0.3])\n",
    "    input2  = np.array([[1, 2, 3], [1, -2, -3]])\n",
    "    input3  = np.array([[0], [1]])\n",
    "\n",
    "    value = compute_gradient(input1, input2, input3)\n",
    "\n",
    "    print(value)"
   ]
  },
  {
   "cell_type": "code",
   "execution_count": null,
   "metadata": {},
   "outputs": [],
   "source": [
    "def function_result_06():\n",
    "    \n",
    "    plt.figure(figsize=(8,6))\n",
    "    plt.title('loss')\n",
    "\n",
    "    plt.plot(loss_iteration, '-', color='red')\n",
    "    plt.xlabel('iteration')\n",
    "    plt.ylabel('loss')\n",
    "\n",
    "    plt.tight_layout()\n",
    "    plt.show()"
   ]
  },
  {
   "cell_type": "code",
   "execution_count": null,
   "metadata": {},
   "outputs": [],
   "source": [
    "def function_result_07():\n",
    "    \n",
    "    plt.figure(figsize=(8,6))   # USE THIS VALUE for the size of the figure\n",
    "    plt.title('model parameter')\n",
    "\n",
    "    plt.plot(theta_iteration[:, 0], '-', color='red', label=r'$\\theta_0$')\n",
    "    plt.plot(theta_iteration[:, 1], '-', color='green', label=r'$\\theta_1$')\n",
    "    plt.plot(theta_iteration[:, 2], '-', color='blue', label=r'$\\theta_2$')\n",
    "    \n",
    "    plt.xlabel('iteration')\n",
    "    plt.legend()\n",
    "\n",
    "    plt.tight_layout()\n",
    "    plt.show()"
   ]
  },
  {
   "cell_type": "markdown",
   "metadata": {},
   "source": [
    "## plot the linear regression values over the 2-dimensional Euclidean space and superimpose the training data"
   ]
  },
  {
   "cell_type": "code",
   "execution_count": null,
   "metadata": {},
   "outputs": [],
   "source": [
    "def function_result_08():\n",
    "\n",
    "    X = np.arange(-20, 35, 0.1) # USE THIS VALUE for the range of x values in the construction of coordinate\n",
    "    Y = np.arange(-20, 35, 0.1) # USE THIS VALUE for the range of y values in the construction of coordinate\n",
    "\n",
    "    [XX, YY] = np.meshgrid(X, Y)\n",
    "\n",
    "    # ++++++++++++++++++++++++++++++++++++++++++++++++++\n",
    "    # complete the blanks\n",
    "    #\n",
    "\n",
    "\n",
    "    #\n",
    "    # ++++++++++++++++++++++++++++++++++++++++++++++++++"
   ]
  },
  {
   "cell_type": "markdown",
   "metadata": {},
   "source": [
    "## plot the logistic regression values over the 2-dimensional Euclidean space"
   ]
  },
  {
   "cell_type": "code",
   "execution_count": null,
   "metadata": {},
   "outputs": [],
   "source": [
    "def function_result_09():\n",
    "\n",
    "    X = np.arange(-20, 35, 0.1) # USE THIS VALUE for the range of x values in the construction of coordinate\n",
    "    Y = np.arange(-20, 35, 0.1) # USE THIS VALUE for the range of y values in the construction of coordinate\n",
    "\n",
    "    [XX, YY] = np.meshgrid(X, Y)\n",
    "\n",
    "    # ++++++++++++++++++++++++++++++++++++++++++++++++++\n",
    "    # complete the blanks\n",
    "    #\n",
    "\n",
    "\n",
    "    #\n",
    "    # ++++++++++++++++++++++++++++++++++++++++++++++++++"
   ]
  },
  {
   "cell_type": "markdown",
   "metadata": {},
   "source": [
    "___"
   ]
  },
  {
   "cell_type": "markdown",
   "metadata": {},
   "source": [
    "___"
   ]
  },
  {
   "cell_type": "markdown",
   "metadata": {},
   "source": [
    "## results"
   ]
  },
  {
   "cell_type": "markdown",
   "metadata": {},
   "source": [
    "___"
   ]
  },
  {
   "cell_type": "markdown",
   "metadata": {},
   "source": [
    "___"
   ]
  },
  {
   "cell_type": "code",
   "execution_count": null,
   "metadata": {},
   "outputs": [],
   "source": [
    "number_result = 9\n",
    "\n",
    "for i in range(number_result):\n",
    "    title = '## [RESULT {:02d}]'.format(i+1)\n",
    "    name_function = 'function_result_{:02d}()'.format(i+1)\n",
    "\n",
    "    print('**************************************************')\n",
    "    print(title)\n",
    "    print('**************************************************')\n",
    "    eval(name_function)"
   ]
  },
  {
   "cell_type": "code",
   "execution_count": null,
   "metadata": {},
   "outputs": [],
   "source": []
  }
 ],
 "metadata": {
  "interpreter": {
   "hash": "dfd2afc40b071b0a8a7be2b8b482a1561238dbd554bbdbb5af95d337cdb58bec"
  },
  "kernelspec": {
   "display_name": "Python 3.10.2 64-bit (system)",
   "language": "python",
   "name": "python3"
  },
  "language_info": {
   "codemirror_mode": {
    "name": "ipython",
    "version": 3
   },
   "file_extension": ".py",
   "mimetype": "text/x-python",
   "name": "python",
   "nbconvert_exporter": "python",
   "pygments_lexer": "ipython3",
   "version": "3.10.2"
  },
  "metadata": {
   "interpreter": {
    "hash": "31f2aee4e71d21fbe5cf8b01ff0e069b9275f58929596ceb00d14d90e3e16cd6"
   }
  }
 },
 "nbformat": 4,
 "nbformat_minor": 2
}
